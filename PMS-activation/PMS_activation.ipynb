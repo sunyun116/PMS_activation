{
 "cells": [
  {
   "cell_type": "markdown",
   "id": "a72e983b",
   "metadata": {},
   "source": [
    "# load_data"
   ]
  },
  {
   "cell_type": "code",
   "execution_count": 1,
   "id": "a7e28f6b",
   "metadata": {},
   "outputs": [],
   "source": [
    "import numpy as np \n",
    "import xlrd \n",
    "import torch \n",
    "\n",
    "def load_data(flag):\n",
    "    file=\"./data1.xlsx\"\n",
    "    wb = xlrd.open_workbook(file) \n",
    "    sheet = wb.sheet_by_index(0) \n",
    "    \n",
    "    num = 61  \n",
    "    electronegativity = np.array([sheet.cell_value(loopi+1,1) for loopi in range(num)])\n",
    "    d_electrons = np.array([sheet.cell_value(loopi+1,2) for loopi in range(num)])          \n",
    "    group = np.array([sheet.cell_value(loopi+1,3) for loopi in range(num)])              \n",
    "    radius = np.array([sheet.cell_value(loopi+1,4) for loopi in range(num)])              \n",
    "    N_numbers = np.array([sheet.cell_value(loopi+1,5) for loopi in range(num)])      \n",
    "    Ebar = np.array([sheet.cell_value(loopi+1,6) for loopi in range(27)])\n",
    "    \n",
    "    \n",
    "    X_data = np.stack((electronegativity, d_electrons, group, radius, N_numbers), axis=0).T \n",
    "    X_data = torch.from_numpy(X_data).float()  \n",
    "    \n",
    "    if flag == \"E\": \n",
    "        y_data = torch.from_numpy(Ebar).float() \n",
    "    \n",
    "    return X_data, y_data, [electronegativity, d_electrons, group, radius, N_numbers, y_data] \n",
    "\n",
    "    \n",
    "def build_dataset(flag):\n",
    "    X_data, y_data, _ = load_data(flag)\n",
    "    \n",
    "    train_list = [0, 1, 2, 3, 4, 5, 6, 7, 8, 9, 10, 11, 12, 13, 14, 15, 16, 17, 18, 19, 20, 21, 22, 23, 24, 25, 26] \n",
    "    \n",
    "    test_list = [2, 5, 14, 20, 25]  \n",
    "\n",
    "        \n",
    "    for idx in test_list: \n",
    "        train_list.remove(idx)\n",
    "    \n",
    "    predict_list = [27+loopi for loopi in range(34)]\n",
    "    \n",
    "    X_data_train, y_data_train = [], []\n",
    "    X_data_test, y_data_test = [], [] \n",
    "    X_data_predict = [] \n",
    "    for index in range(61):  \n",
    "        if index in train_list:\n",
    "            X_data_train.append(X_data[index,:].reshape(1,1,5))\n",
    "            y_data_train.append(y_data[index].reshape(1)) \n",
    "            \n",
    "        if index in test_list: \n",
    "            X_data_test.append(X_data[index,:].reshape(1,1,5))\n",
    "            y_data_test.append(y_data[index].reshape(1)) \n",
    "            \n",
    "        if index in predict_list:\n",
    "            X_data_predict.append(X_data[index,:].reshape(1,1,5)) \n",
    "            \n",
    "    return X_data_train, y_data_train, X_data_test, y_data_test, X_data_predict\n",
    "\n",
    "\n",
    "if __name__ == \"__main__\": \n",
    "    flag = \"E\" \n",
    "    X_data_train, y_data_train, X_data_test, y_data_test, X_data_predict = build_dataset(flag) "
   ]
  },
  {
   "cell_type": "code",
   "execution_count": 3,
   "id": "a0b95f3c",
   "metadata": {},
   "outputs": [],
   "source": [
    "import torch  \n",
    "import torch.nn.functional as F \n",
    "import matplotlib.pyplot as plt \n",
    "\n",
    "class MyLoss(torch.nn.Module): \n",
    "    def __init__(self):\n",
    "        super(MyLoss, self).__init__() \n",
    "        \n",
    "    def forward(self, pred, real): \n",
    "        return torch.mean(torch.abs(torch.sub(pred, real)))\n",
    "    \n",
    "    \n",
    "class MyError(torch.nn.Module): \n",
    "    def __init__(self):\n",
    "        super(MyError, self).__init__() \n",
    "        \n",
    "    def forward(self, pred, real): \n",
    "        return torch.mean(torch.abs(torch.sub(pred, real) / real)) \n",
    "    \n",
    "    \n",
    "class Conv1d_same_padding(torch.nn.Module):\n",
    "    def __init__(self, inplanes, planes, kernel_size, strides=1, dilation=1):\n",
    "        super(Conv1d_same_padding, self).__init__() \n",
    "        self.kernel_size = kernel_size\n",
    "        self.strides = strides\n",
    "        self.dilation = dilation\n",
    "        self.conv1d = torch.nn.Conv1d(inplanes, planes, kernel_size, strides, bias=False) \n",
    "        torch.nn.init.xavier_uniform_(self.conv1d.weight)\n",
    "\n",
    "    def forward(self, x): \n",
    "        input_rows = x.size(2)\n",
    "        out_rows = (input_rows + self.strides - 1) // self.strides\n",
    "        padding_rows = max(0, (out_rows - 1) * self.strides + (self.kernel_size - 1) * self.dilation + 1 - input_rows) \n",
    "        x = F.pad(x, pad=(0, padding_rows), mode=\"constant\") \n",
    "        outputs = self.conv1d(x)        \n",
    "        return outputs\n",
    "    \n",
    "\n",
    "def plot_training_rst(error_rec_train, error_rec_test):\n",
    "    plt.figure(figsize=(10,9)) \n",
    "    plt.plot(error_rec_train, \"-o\", linewidth=3, markersize=8) \n",
    "    plt.plot(error_rec_test, \"-o\", linewidth=3, markersize=8) \n",
    "    plt.ylim([0,1]) \n",
    "    plt.legend([\"Train error\", \"Test error\"], fontsize=20) \n",
    "    plt.xticks(fontsize=18)\n",
    "    plt.yticks(fontsize=18)\n",
    "    plt.xlabel(\"Epoch\", fontsize=18) \n",
    "    plt.ylabel(\"Error\", fontsize=18) \n",
    "    plt.grid(which=\"both\", linestyle=\"--\", linewidth=2, axis='y')\n",
    "    plt.show() "
   ]
  },
  {
   "cell_type": "code",
   "execution_count": 4,
   "id": "58c982e8",
   "metadata": {},
   "outputs": [
    {
     "name": "stdout",
     "output_type": "stream",
     "text": [
      "['C:\\\\Users\\\\lenovo\\\\Desktop\\\\data\\\\改group\\\\1-换test', 'D:\\\\Ana\\\\python38.zip', 'D:\\\\Ana\\\\DLLs', 'D:\\\\Ana\\\\lib', 'D:\\\\Ana', '', 'D:\\\\Ana\\\\lib\\\\site-packages', 'D:\\\\Ana\\\\lib\\\\site-packages\\\\locket-0.2.1-py3.8.egg', 'D:\\\\Ana\\\\lib\\\\site-packages\\\\win32', 'D:\\\\Ana\\\\lib\\\\site-packages\\\\win32\\\\lib', 'D:\\\\Ana\\\\lib\\\\site-packages\\\\Pythonwin', 'D:\\\\Ana\\\\lib\\\\site-packages\\\\IPython\\\\extensions', 'C:\\\\Users\\\\lenovo\\\\.ipython']\n"
     ]
    }
   ],
   "source": [
    "import sys \n",
    "#sys.path.append(\"./utils/\")\n",
    "print(sys.path)\n",
    "\n",
    "import os \n",
    "import shutil \n",
    "\n",
    "import torch  \n",
    "import numpy as np \n",
    "\n",
    "save_path = \"./save_results/\"\n",
    "if os.path.exists(save_path): \n",
    "    shutil.rmtree(save_path)\n",
    "os.mkdir(save_path)"
   ]
  },
  {
   "cell_type": "code",
   "execution_count": 5,
   "id": "3113e972",
   "metadata": {},
   "outputs": [],
   "source": [
    "flag = \"E\" \n",
    "X_data_train, y_data_train, X_data_test, y_data_test, X_data_predict = build_dataset(flag)  "
   ]
  },
  {
   "cell_type": "markdown",
   "id": "5d1cb3dc",
   "metadata": {},
   "source": [
    "# model"
   ]
  },
  {
   "cell_type": "code",
   "execution_count": 7,
   "id": "428a3b6d",
   "metadata": {},
   "outputs": [
    {
     "name": "stdout",
     "output_type": "stream",
     "text": [
      "torch.Size([1])\n"
     ]
    }
   ],
   "source": [
    "import torch  \n",
    "import torch.nn.functional as F \n",
    "#from utils import Conv1d_same_padding \n",
    "#from load_data import load_data\n",
    "\n",
    "class Net(torch.nn.Module): \n",
    "    def __init__(self, flag): \n",
    "        super(Net, self).__init__() \n",
    "        X_data, _, _ = load_data(\"E\")\n",
    "        self.conv_0 = Conv1d_same_padding( 4, 16, 1)\n",
    "        self.conv_1 = Conv1d_same_padding(16, 16, 1) \n",
    "        self.conv_2 = Conv1d_same_padding(16, 16, 1) \n",
    "        self.conv_3 = Conv1d_same_padding(16, 16, 1) \n",
    "        self.conv_4 = Conv1d_same_padding(16,  8, 1) \n",
    "        self.dense_0 = torch.nn.Linear(40, 32, bias=False) \n",
    "        self.dense_1 = torch.nn.Linear(32, 16, bias=False) \n",
    "        self.dense_2 = torch.nn.Linear(16, 1, bias=False)\n",
    "        torch.nn.init.xavier_uniform_(self.dense_0.weight) \n",
    "        torch.nn.init.xavier_uniform_(self.dense_1.weight) \n",
    "        torch.nn.init.xavier_uniform_(self.dense_2.weight) \n",
    "        \n",
    "        self.data = X_data \n",
    "        self.flag = flag \n",
    "        \n",
    "    def forward(self, x): \n",
    "        if self.flag == \"E\":\n",
    "            label_0 = self.data[ 3,:].reshape(1,1,5).float()   \n",
    "            label_1 = self.data[ 4,:].reshape(1,1,5).float()   \n",
    "            label_2 = self.data[13,:].reshape(1,1,5).float()   \n",
    "        net = torch.cat([x, label_0, label_1, label_2], dim=1) \n",
    "        \n",
    "        net = F.relu(self.conv_0(net))  \n",
    "        net = F.relu(self.conv_1(net))  \n",
    "        net = F.relu(self.conv_2(net))  \n",
    "        net = F.relu(self.conv_3(net))  \n",
    "        net = F.relu(self.conv_4(net))  \n",
    "        net = torch.flatten(net)  \n",
    "        \n",
    "        net = F.relu(self.dense_0(net)) \n",
    "        # net = self.dropout_0(net)\n",
    "        net = F.relu(self.dense_1(net)) \n",
    "        # net = self.dropout_1(net)\n",
    "        outputs = self.dense_2(net) \n",
    "        return outputs \n",
    "\n",
    "\n",
    "if __name__ == \"__main__\":\n",
    "    model = Net(\"E\") \n",
    "    coord_tensor = torch.randn([1,1,5]) \n",
    "    result = model(coord_tensor) \n",
    "    print(result.shape) "
   ]
  },
  {
   "cell_type": "markdown",
   "id": "990eaf00",
   "metadata": {},
   "source": [
    "# train"
   ]
  },
  {
   "cell_type": "code",
   "execution_count": 8,
   "id": "0ed318a6",
   "metadata": {},
   "outputs": [],
   "source": [
    "def train_func(flag): \n",
    "    \n",
    "    # ========== Training parameters setting ========== \n",
    "    X_data_train, y_data_train, X_data_test, y_data_test, X_data_predict = build_dataset(flag) \n",
    "    epochs, init_lr = 120, 1e-3 \n",
    "    model = Net(flag) \n",
    "    cal_loss, cal_error = torch.nn.MSELoss(), MyError() \n",
    "    optimizer = torch.optim.Adam(model.parameters(), lr=init_lr) \n",
    "    \n",
    "    # ========== start training ========== \n",
    "    loss_rec_train, loss_rec_test = [], [] \n",
    "    error_rec_train, error_rec_test = [], [] \n",
    "    for epoch in range(epochs): \n",
    "        \n",
    "        # ========== Training ========== \n",
    "        train_loss, train_error = 0, 0\n",
    "        model.train() \n",
    "        index = 0\n",
    "        for coord, labels in zip(X_data_train, y_data_train): \n",
    "            optimizer.zero_grad()                 \n",
    "            outputs = model(coord)                 \n",
    "            loss = cal_loss(outputs, labels)      \n",
    "            error = cal_error(outputs, labels)    \n",
    "            loss.backward()                       \n",
    "            optimizer.step()                      \n",
    "            train_loss += loss.item()             \n",
    "            train_error += error.item()           \n",
    "            index += 1 \n",
    "            \n",
    "        train_loss_mean, train_error_mean = (train_loss / index), (train_error / index)\n",
    "        loss_rec_train.append(train_loss_mean)\n",
    "        error_rec_train.append(train_error_mean) \n",
    "        \n",
    "        # ========== Testing ========== \n",
    "        test_loss, test_error = 0, 0 \n",
    "        model.eval() \n",
    "        with torch.no_grad(): \n",
    "            index = 0 \n",
    "            for coord, labels in zip(X_data_test, y_data_test):\n",
    "                outputs = model(coord)             \n",
    "                loss = cal_loss(outputs, labels)   \n",
    "                error = cal_error(outputs, labels) \n",
    "                test_loss += loss.item()            \n",
    "                test_error += error.item()         \n",
    "                index += 1\n",
    "                \n",
    "        test_loss_mean, test_error_mean = (test_loss / index), (test_error / index)\n",
    "        loss_rec_test.append(test_loss_mean) \n",
    "        error_rec_test.append(test_error_mean)\n",
    "    \n",
    "    return loss_rec_train, error_rec_train, loss_rec_test, error_rec_test, model"
   ]
  },
  {
   "cell_type": "code",
   "execution_count": 9,
   "id": "684bfd8f",
   "metadata": {},
   "outputs": [
    {
     "name": "stdout",
     "output_type": "stream",
     "text": [
      "{ 0 } Now the best model's testing error is 0.61577\n",
      "{ 1 } Now the best model's testing error is 0.59744\n",
      "{ 2 } Now the best model's testing error is 0.48351\n",
      "{ 7 } Now the best model's testing error is 0.47145\n",
      "{ 26 } Now the best model's testing error is 0.36938\n",
      "{ 65 } Now the best model's testing error is 0.24994\n",
      "{ 91 } Now the best model's testing error is 0.23461\n",
      "{ 899 } Now the best model's testing error is 0.20366\n",
      "3963.256255865097\n"
     ]
    }
   ],
   "source": [
    "import time\n",
    "start_time = time.time()\n",
    "\n",
    "loop_num = 1000\n",
    "error_flag_test = 1e20    \n",
    "for train_num in range(loop_num): \n",
    "    loss_rec_train, error_rec_train, loss_rec_test, error_rec_test, model = train_func(flag) \n",
    "    if error_rec_test[-1] <= error_flag_test: \n",
    "        error_flag_train = error_rec_train[-1] # update the error flag\n",
    "        error_flag_test = error_rec_test[-1]   # update the error flag\n",
    "        train_error = error_rec_train          # update the training error\n",
    "        test_error = error_rec_test            # update the testing error\n",
    "        model_sav = model \n",
    "        \n",
    "        print(\"{ \"+str(train_num)+\" }\", \"Now the best model's testing error is\", \"%.5f\" % error_flag_test)\n",
    "        \n",
    "end_time = time.time()\n",
    "used_time = end_time - start_time\n",
    "print(used_time)"
   ]
  },
  {
   "cell_type": "code",
   "execution_count": 10,
   "id": "ba925a17",
   "metadata": {},
   "outputs": [
    {
     "name": "stdout",
     "output_type": "stream",
     "text": [
      "Prediction in training dataset \n",
      "\n",
      "Sc_2 [1.1684256]\n",
      "Ti_2 [2.4270763]\n",
      "Cr_2 [1.5897409]\n",
      "Co_2 [5.3496]\n",
      "Zr_2 [1.8851249]\n",
      "Hf_2 [1.8317976]\n",
      "Ir_2 [3.0548513]\n",
      "V_3 [0.71169376]\n",
      "Ni_3 [10.314186]\n",
      "Cu_3 [12.837125]\n",
      "Zn_3 [7.735251]\n",
      "Rh_3 [3.428987]\n",
      "Ag_3 [12.891241]\n",
      "Cd_3 [7.652857]\n",
      "Ir_3 [3.5762935]\n",
      "Ti_4 [0.44371617]\n",
      "Fe_4 [1.7149296]\n",
      "Co_4 [7.813198]\n",
      "Ni_4 [12.00988]\n",
      "Cu_4 [13.761828]\n",
      "Ru_4 [8.695411]\n",
      "Os_4 [3.5105882]\n"
     ]
    }
   ],
   "source": [
    "train_eval = [] # training evaluation \n",
    "elements = [\"Sc_2\", \"Ti_2\", \"Cr_2\", \"Co_2\", \"Zr_2\", \"Hf_2\", \"Ir_2\", \n",
    "            \"V_3\", \"Ni_3\", \"Cu_3\", \"Zn_3\",  \"Ru_3\", \"Ag_3\", \"Cd_3\", \n",
    "            \"Ir_3\", \"Ti_4\", \"Mn_4\", \"Co_4\", \"Ni_4\", \"Cu_4\", \"Zn_4\", \"Os_4\",]\n",
    "\n",
    "model_sav.eval() \n",
    "with torch.no_grad():\n",
    "    for coord in X_data_train:\n",
    "        outputs = model_sav(coord)\n",
    "        train_eval.append(outputs.detach().numpy()) \n",
    "        \n",
    "print(\"Prediction in training dataset\", \"\\n\") \n",
    "index = 0\n",
    "for element in elements:\n",
    "    print(element, train_eval[index])\n",
    "    index += 1 "
   ]
  },
  {
   "cell_type": "code",
   "execution_count": 11,
   "id": "38870fc6",
   "metadata": {},
   "outputs": [
    {
     "name": "stdout",
     "output_type": "stream",
     "text": [
      "Prediction in testing dataset \n",
      "\n",
      "V_2 tensor([2.2950])\n",
      "Y_2 tensor([0.8556])\n",
      "Ru_3 tensor([7.0461])\n",
      "Mn_4 tensor([5.0433])\n",
      "Zn_4 tensor([5.7154])\n"
     ]
    }
   ],
   "source": [
    "elements = [\"V_2\", \"Y_2\", \"Rh_3\", \"Fe_4\", \"Ru_4\"]\n",
    "test_eval = [] \n",
    "model_sav.eval() \n",
    "with torch.no_grad(): \n",
    "    for coord in X_data_test:\n",
    "        outputs = model_sav(coord)\n",
    "        test_eval.append(outputs) \n",
    "        \n",
    "print(\"Prediction in testing dataset\", \"\\n\") \n",
    "index = 0\n",
    "for element in elements:\n",
    "    print(element, test_eval[index])\n",
    "    index += 1 "
   ]
  },
  {
   "cell_type": "code",
   "execution_count": 12,
   "id": "0b4052f6",
   "metadata": {},
   "outputs": [
    {
     "name": "stdout",
     "output_type": "stream",
     "text": [
      "Prediction in testing dataset \n",
      "\n",
      "Mn_2 tensor([0.5602])\n",
      "Fe_2 tensor([2.3542])\n",
      "Ni_2 tensor([9.3963])\n",
      "Cu_2 tensor([11.8933])\n",
      "Zn_2 tensor([6.7915])\n",
      "Ru_2 tensor([2.7413])\n",
      "Rh_2 tensor([6.5405])\n",
      "Pd_2 tensor([14.5652])\n",
      "Ag_2 tensor([11.9475])\n",
      "Cd_2 tensor([6.7091])\n",
      "Os_2 tensor([0.5365])\n",
      "Pt_2 tensor([10.4559])\n",
      "Au_2 tensor([11.1017])\n",
      "Sc_3 tensor([0.5312])\n",
      "Ti_3 tensor([1.1425])\n",
      "Cr_3 tensor([0.9851])\n",
      "Mn_3 tensor([1.0767])\n",
      "Fe_3 tensor([2.8756])\n",
      "Co_3 tensor([5.8710])\n",
      "Y_3 tensor([0.1404])\n",
      "Pd_3 tensor([15.3835])\n",
      "Hf_3 tensor([0.2963])\n",
      "Os_3 tensor([1.2241])\n",
      "Pt_3 tensor([10.9480])\n",
      "Au_3 tensor([12.0085])\n",
      "Sc_4 tensor([0.3291])\n",
      "V_4 tensor([-0.8422])\n",
      "Cr_4 tensor([-0.2210])\n",
      "Y_4 tensor([0.0256])\n",
      "Rh_4 tensor([8.9883])\n",
      "Pd_4 tensor([16.7564])\n",
      "Cd_4 tensor([8.5776])\n",
      "Ir_4 tensor([5.5184])\n",
      "Pt_4 tensor([12.8563])\n"
     ]
    }
   ],
   "source": [
    "elements = [\"Mn_2\", \"Fe_2\", \"Ni_2\", \"Cu_2\", \"Zn_2\", \"Ru_2\", \n",
    "            \"Rh_2\", \"Pd_2\", \"Ag_2\", \"Cd_2\", \"Os_2\", \"Pt_2\", \n",
    "            \"Au_2\", \"Sc_3\", \"Ti_3\", \"Cr_3\", \"Mn_3\", \"Fe_3\", \n",
    "            \"Co_3\", \"Y_3\", \"Pd_3\", \"Hf_3\", \"Os_3\", \"Pt_3\", \n",
    "            \"Au_3\", \"Sc_4\", \"V_4\", \"Cr_4\", \"Y_4\", \"Rh_4\", \n",
    "            \"Pd_4\", \"Cd_4\", \"Ir_4\", \"Pt_4\"]\n",
    "\n",
    "predicts = [] \n",
    "model_sav.eval() \n",
    "with torch.no_grad():\n",
    "    for coord in X_data_predict:\n",
    "        outputs = model_sav(coord)\n",
    "        predicts.append(outputs) \n",
    "        \n",
    "print(\"Prediction in testing dataset\", \"\\n\") \n",
    "index = 0\n",
    "for element in elements:\n",
    "    print(element, predicts[index])\n",
    "    index += 1         "
   ]
  },
  {
   "cell_type": "code",
   "execution_count": 13,
   "id": "6bb0a8cc",
   "metadata": {},
   "outputs": [
    {
     "data": {
      "image/png": "[encoded data removed]",
      "text/plain": [
       "<Figure size 720x648 with 1 Axes>"
      ]
     },
     "metadata": {
      "needs_background": "light"
     },
     "output_type": "display_data"
    },
    {
     "name": "stderr",
     "output_type": "stream",
     "text": [
      "<ipython-input-13-7efe6c1c81a8>:2: FutureWarning: The input object of type 'Tensor' is an array-like implementing one of the corresponding protocols (`__array__`, `__array_interface__` or `__array_struct__`); but not a sequence (or 0-D). In the future, this object will be coerced as if it was first converted using `np.array(obj)`. To retain the old behaviour, you have to either modify the type 'Tensor', or assign to an empty array created with `np.empty(correct_shape, dtype=object)`.\n",
      "  np.savetxt(save_path+\"ML_results_\"+flag+\"_preditions.txt\", np.array(predicts))\n",
      "<ipython-input-13-7efe6c1c81a8>:2: VisibleDeprecationWarning: Creating an ndarray from ragged nested sequences (which is a list-or-tuple of lists-or-tuples-or ndarrays with different lengths or shapes) is deprecated. If you meant to do this, you must specify 'dtype=object' when creating the ndarray.\n",
      "  np.savetxt(save_path+\"ML_results_\"+flag+\"_preditions.txt\", np.array(predicts))\n",
      "<ipython-input-13-7efe6c1c81a8>:4: FutureWarning: The input object of type 'Tensor' is an array-like implementing one of the corresponding protocols (`__array__`, `__array_interface__` or `__array_struct__`); but not a sequence (or 0-D). In the future, this object will be coerced as if it was first converted using `np.array(obj)`. To retain the old behaviour, you have to either modify the type 'Tensor', or assign to an empty array created with `np.empty(correct_shape, dtype=object)`.\n",
      "  np.savetxt(save_path+\"ML_results_\"+flag+\"_test.txt\", np.array(test_eval))\n",
      "<ipython-input-13-7efe6c1c81a8>:4: VisibleDeprecationWarning: Creating an ndarray from ragged nested sequences (which is a list-or-tuple of lists-or-tuples-or ndarrays with different lengths or shapes) is deprecated. If you meant to do this, you must specify 'dtype=object' when creating the ndarray.\n",
      "  np.savetxt(save_path+\"ML_results_\"+flag+\"_test.txt\", np.array(test_eval))\n"
     ]
    }
   ],
   "source": [
    "plot_training_rst(train_error, test_error) \n",
    "np.savetxt(save_path+\"ML_results_\"+flag+\"_preditions.txt\", np.array(predicts)) \n",
    "np.savetxt(save_path+\"ML_results_\"+flag+\"_train.txt\", np.array(train_eval)) \n",
    "np.savetxt(save_path+\"ML_results_\"+flag+\"_test.txt\", np.array(test_eval)) \n",
    "torch.save(model_sav.state_dict(), save_path+\"atomic_net_\"+flag+\".pkl\")"
   ]
  }
 ],
 "metadata": {
  "kernelspec": {
   "display_name": "Python 3",
   "language": "python",
   "name": "python3"
  },
  "language_info": {
   "codemirror_mode": {
    "name": "ipython",
    "version": 3
   },
   "file_extension": ".py",
   "mimetype": "text/x-python",
   "name": "python",
   "nbconvert_exporter": "python",
   "pygments_lexer": "ipython3",
   "version": "3.8.8"
  }
 },
 "nbformat": 4,
 "nbformat_minor": 5
}
